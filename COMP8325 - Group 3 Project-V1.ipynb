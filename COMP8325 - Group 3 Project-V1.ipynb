{
 "cells": [
  {
   "cell_type": "code",
   "execution_count": 134,
   "id": "984e5818-3b24-4ee0-a916-ae5fe3b240fb",
   "metadata": {},
   "outputs": [],
   "source": [
    "#hello team, this is our source code file for our project"
   ]
  },
  {
   "cell_type": "code",
   "execution_count": null,
   "id": "b8dc342d-6027-4815-9c70-cdc42b897c8a",
   "metadata": {},
   "outputs": [],
   "source": [
    "\n"
   ]
  },
  {
   "cell_type": "code",
   "execution_count": 135,
   "id": "48a211bf-235c-4f5d-8eb8-1d31ea4c1f5c",
   "metadata": {},
   "outputs": [],
   "source": [
    "import numpy as np\n",
    "import pandas as pd\n",
    "\n",
    "# Load features and labels\n",
    "data = np.load(\"bodmas_holdout.npz\")   # tested with bodmas_train_test.npz\n",
    "X = data['X']  # feature vectors\n",
    "y_binary = data['y']  # 0=benign, 1=malware\n",
    "\n",
    "# Load metadata and category\n",
    "metadata = pd.read_csv(\"bodmas_metadata_holdout.csv\")  # has 'sha' #tested with bodmas_metadata_train_test.csv\n",
    "categories = pd.read_csv(\"bodmas_malware_category.csv\")   # has 'sha256'\n",
    "\n",
    "# Merge on correct columns\n",
    "metadata = metadata.merge(categories, left_on='sha', right_on='sha256', how='left')\n",
    "metadata['category'] = metadata['category'].fillna('benign')\n",
    "metadata.drop(columns=['sha256'], inplace=True)\n",
    "\n",
    "# Combine with features\n",
    "df = pd.DataFrame(X)\n",
    "df['category'] = metadata['category']\n",
    "\n"
   ]
  },
  {
   "cell_type": "code",
   "execution_count": 136,
   "id": "b4ef4d6c-a9fe-4c4c-99fa-0fe0ca21a5e7",
   "metadata": {},
   "outputs": [
    {
     "name": "stdout",
     "output_type": "stream",
     "text": [
      "Feature matrix shape: (34435, 2381)\n",
      "Binary label shape: (34435,)\n"
     ]
    }
   ],
   "source": [
    "#Check Shape of Features and Labels\n",
    "\n",
    "print(\"Feature matrix shape:\", X.shape)\n",
    "print(\"Binary label shape:\", y_binary.shape)\n"
   ]
  },
  {
   "cell_type": "code",
   "execution_count": 137,
   "id": "66a52046-c99d-4a1b-bb07-ea2179b07e9c",
   "metadata": {},
   "outputs": [
    {
     "name": "stdout",
     "output_type": "stream",
     "text": [
      "                                                 sha  \\\n",
      "0  068b20d7efe271ed3b4fa04b3dd82bfc477905130ded4d...   \n",
      "1  327b6722386117b6376aa57e4096b831160faa318a7305...   \n",
      "2  a9125e18ae7e219c01137a36e4c7379e1606f5db8fe7de...   \n",
      "3  28e951721029f698108dc6a7837621bfe82c0c97c081fc...   \n",
      "4  cf4b96f93e68db9aca8ae80b471defe4f0e85668299e49...   \n",
      "\n",
      "                   timestamp family category  \n",
      "0  2020-06-11 00:00:00+00:00    NaN   benign  \n",
      "1  2020-06-11 00:00:00+00:00    NaN   benign  \n",
      "2  2020-06-11 00:00:00+00:00    NaN   benign  \n",
      "3  2020-06-11 00:00:00+00:00    NaN   benign  \n",
      "4  2020-06-11 00:00:00+00:00    NaN   benign  \n"
     ]
    }
   ],
   "source": [
    "#Check First Few Rows of Metadata\n",
    "print(metadata.head())\n"
   ]
  },
  {
   "cell_type": "code",
   "execution_count": null,
   "id": "46492f61-3753-4add-8185-52cf6587072d",
   "metadata": {},
   "outputs": [],
   "source": []
  },
  {
   "cell_type": "code",
   "execution_count": 138,
   "id": "0b2719aa-690b-479b-8469-ed09f792d1ed",
   "metadata": {},
   "outputs": [],
   "source": [
    "# ✅ NEW: Remove classes with only 1 sample\n",
    "counts = df['category'].value_counts()\n",
    "valid_classes = counts[counts > 1].index\n",
    "df = df[df['category'].isin(valid_classes)]"
   ]
  },
  {
   "cell_type": "code",
   "execution_count": null,
   "id": "a3ddde05-5175-497d-8aae-7719be972090",
   "metadata": {},
   "outputs": [],
   "source": []
  },
  {
   "cell_type": "code",
   "execution_count": 139,
   "id": "feb17a32-1869-425c-ac86-04d7f8193992",
   "metadata": {},
   "outputs": [],
   "source": [
    "from sklearn.model_selection import train_test_split\n",
    "from sklearn.preprocessing import LabelEncoder\n",
    "\n",
    "# Encode category labels to integers\n",
    "le = LabelEncoder()\n",
    "y = le.fit_transform(df['category'])\n",
    "X_features = df.drop(columns=['category'])\n",
    "\n",
    "# Create train/test sets\n",
    "X_train, X_test, y_train, y_test = train_test_split(\n",
    "    X_features, y, test_size=0.2, stratify=y, random_state=42\n",
    ")"
   ]
  },
  {
   "cell_type": "code",
   "execution_count": 140,
   "id": "1e300fe4-9c59-41b2-973f-7911c1980070",
   "metadata": {},
   "outputs": [
    {
     "name": "stdout",
     "output_type": "stream",
     "text": [
      "Number of unique classes in y: 11\n",
      "Number of classes in le.classes_: 11\n"
     ]
    }
   ],
   "source": [
    "#checking if sync\n",
    "print(\"Number of unique classes in y:\", len(np.unique(y)))\n",
    "print(\"Number of classes in le.classes_:\", len(le.classes_))\n"
   ]
  },
  {
   "cell_type": "code",
   "execution_count": 141,
   "id": "0fe86231-66c3-4b56-a1c6-d2d14289f2ff",
   "metadata": {},
   "outputs": [
    {
     "name": "stdout",
     "output_type": "stream",
     "text": [
      "                    precision    recall  f1-score   support\n",
      "\n",
      "          backdoor       0.98      0.98      0.98       533\n",
      "            benign       0.99      1.00      1.00      3673\n",
      "        downloader       0.83      0.45      0.59        11\n",
      "           dropper       0.86      0.70      0.78        27\n",
      "informationstealer       0.95      0.93      0.94        43\n",
      "          p2p-worm       0.00      0.00      0.00         3\n",
      "               pua       0.00      0.00      0.00         2\n",
      "        ransomware       0.94      0.81      0.87        21\n",
      "            trojan       0.97      0.95      0.96      1345\n",
      "  trojan-gamethief       0.00      0.00      0.00         0\n",
      "              worm       0.97      0.98      0.97      1229\n",
      "\n",
      "         micro avg       0.98      0.98      0.98      6887\n",
      "         macro avg       0.68      0.62      0.64      6887\n",
      "      weighted avg       0.98      0.98      0.98      6887\n",
      "\n"
     ]
    }
   ],
   "source": [
    "#trying Random Forest Classifier\n",
    "from sklearn.ensemble import RandomForestClassifier\n",
    "from sklearn.metrics import classification_report\n",
    "\n",
    "rf = RandomForestClassifier(n_estimators=100, random_state=42)\n",
    "rf.fit(X_train, y_train)\n",
    "\n",
    "y_pred = rf.predict(X_test)\n",
    "#print(classification_report(y_test, y_pred, target_names=le.classes_))\n",
    "\n",
    "\n",
    "print(classification_report(\n",
    "    y_test,\n",
    "    y_pred,\n",
    "    labels=range(len(le.classes_)),  # handle missing class in test set\n",
    "    target_names=le.classes_,\n",
    "    zero_division=0  # avoids warnings if precision/recall can't be computed\n",
    "))"
   ]
  },
  {
   "cell_type": "code",
   "execution_count": null,
   "id": "3c93b111-7992-4ac4-a1f2-7e9600f59558",
   "metadata": {},
   "outputs": [],
   "source": []
  },
  {
   "cell_type": "code",
   "execution_count": 142,
   "id": "2a169560-3f72-4c52-86bb-ab698650f3aa",
   "metadata": {},
   "outputs": [
    {
     "name": "stdout",
     "output_type": "stream",
     "text": [
      "Random Forest - Overall Accuracy: 0.9814142587483665\n",
      "\n",
      "Top 10 Class Evaluation - Random Forest:\n",
      "                Class  Accuracy   TPR   FPR\n",
      "0              benign      1.00  1.00  0.01\n",
      "1              trojan      0.98  0.95  0.01\n",
      "2                worm      0.99  0.98  0.01\n",
      "3            backdoor      1.00  0.98  0.00\n",
      "4  informationstealer      1.00  0.93  0.00\n",
      "5             dropper      1.00  0.70  0.00\n",
      "6          ransomware      1.00  0.81  0.00\n",
      "7          downloader      1.00  0.45  0.00\n",
      "8            p2p-worm      1.00  0.00  0.00\n",
      "9                 pua      1.00  0.00  0.00\n"
     ]
    }
   ],
   "source": [
    "from sklearn.ensemble import RandomForestClassifier\n",
    "from sklearn.metrics import accuracy_score, confusion_matrix\n",
    "import pandas as pd\n",
    "\n",
    "# --- Train Random Forest Model ---\n",
    "rf = RandomForestClassifier(n_estimators=100, random_state=42)\n",
    "rf.fit(X_train, y_train)\n",
    "\n",
    "# --- Predict ---\n",
    "y_pred_rf = rf.predict(X_test)\n",
    "\n",
    "# --- Print Overall Accuracy ---\n",
    "print(\"Random Forest - Overall Accuracy:\", accuracy_score(y_test, y_pred_rf))\n",
    "\n",
    "# --- Function to Evaluate Top 10 Classes ---\n",
    "def limited_accuracy_by_class(y_true, y_pred, class_names, top_n=10):\n",
    "    counts = pd.Series(y_true).value_counts().nlargest(top_n)\n",
    "    top_classes = counts.index.tolist()\n",
    "    cm = confusion_matrix(y_true, y_pred, labels=top_classes)\n",
    "    output = []\n",
    "\n",
    "    for i, class_idx in enumerate(top_classes):\n",
    "        class_name = class_names[class_idx]\n",
    "        TP = cm[i, i]\n",
    "        FN = cm[i].sum() - TP\n",
    "        FP = cm[:, i].sum() - TP\n",
    "        TN = cm.sum() - (TP + FN + FP)\n",
    "        acc = (TP + TN) / cm.sum()\n",
    "        tpr = TP / (TP + FN) if (TP + FN) > 0 else 0\n",
    "        fpr = FP / (FP + TN) if (FP + TN) > 0 else 0\n",
    "        output.append([class_name, round(acc, 2), round(tpr, 2), round(fpr, 2)])\n",
    "\n",
    "    return pd.DataFrame(output, columns=[\"Class\", \"Accuracy\", \"TPR\", \"FPR\"])\n",
    "\n",
    "# --- Display Evaluation for Top 10 Classes ---\n",
    "top10_rf_report = limited_accuracy_by_class(y_test, y_pred_rf, le.classes_, top_n=10)\n",
    "print(\"\\nTop 10 Class Evaluation - Random Forest:\")\n",
    "print(top10_rf_report)\n"
   ]
  },
  {
   "cell_type": "code",
   "execution_count": null,
   "id": "9beac5d3-195f-4e19-80d9-1ac7dd66bd7f",
   "metadata": {},
   "outputs": [],
   "source": []
  },
  {
   "cell_type": "code",
   "execution_count": null,
   "id": "9706bbfd-27f8-4b47-8257-f043f43f4e42",
   "metadata": {},
   "outputs": [],
   "source": []
  },
  {
   "cell_type": "code",
   "execution_count": null,
   "id": "0828d5fb-9d7f-404f-8dc8-e4ebf2071aba",
   "metadata": {},
   "outputs": [],
   "source": []
  },
  {
   "cell_type": "code",
   "execution_count": null,
   "id": "2dcda7cc-97f2-4c71-b28e-a689297cfe4a",
   "metadata": {},
   "outputs": [],
   "source": []
  },
  {
   "cell_type": "code",
   "execution_count": null,
   "id": "5e370af6-80fe-4e90-83b8-bc6ceb60177a",
   "metadata": {},
   "outputs": [],
   "source": []
  },
  {
   "cell_type": "code",
   "execution_count": null,
   "id": "c2f34b5b-6926-4b95-94d5-5c613620d465",
   "metadata": {},
   "outputs": [],
   "source": []
  },
  {
   "cell_type": "code",
   "execution_count": null,
   "id": "08b63141-f9ad-4ef3-a8ab-a2bc2916231f",
   "metadata": {},
   "outputs": [],
   "source": []
  }
 ],
 "metadata": {
  "kernelspec": {
   "display_name": "Python 3 (ipykernel)",
   "language": "python",
   "name": "python3"
  },
  "language_info": {
   "codemirror_mode": {
    "name": "ipython",
    "version": 3
   },
   "file_extension": ".py",
   "mimetype": "text/x-python",
   "name": "python",
   "nbconvert_exporter": "python",
   "pygments_lexer": "ipython3",
   "version": "3.12.4"
  }
 },
 "nbformat": 4,
 "nbformat_minor": 5
}
