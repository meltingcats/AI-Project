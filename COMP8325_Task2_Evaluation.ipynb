{
 "cells": [
  {
   "cell_type": "markdown",
   "id": "f146c28d",
   "metadata": {},
   "source": [
    "# COMP8325 Group Project - Model 2 and Task 2 Evaluation\n",
    "This notebook includes:\n",
    "- Training XGBoost (Model 2) on the BODMAS dataset\n",
    "- Saving the model\n",
    "- Evaluating on holdout dataset\n",
    "- Generating predictions and performance metrics"
   ]
  },
  {
   "cell_type": "code",
   "execution_count": 2,
   "id": "f09d31cf",
   "metadata": {},
   "outputs": [
    {
     "name": "stdout",
     "output_type": "stream",
     "text": [
      "🚀 Starting Model 2 training and Task 2 evaluation...\n"
     ]
    }
   ],
   "source": [
    "import numpy as np\n",
    "import pandas as pd\n",
    "from sklearn.model_selection import train_test_split, GridSearchCV\n",
    "from sklearn.preprocessing import StandardScaler\n",
    "from sklearn.metrics import classification_report, confusion_matrix, accuracy_score\n",
    "import xgboost as xgb\n",
    "import joblib\n",
    "print(\"🚀 Starting Model 2 training and Task 2 evaluation...\")"
   ]
  },
  {
   "cell_type": "code",
   "execution_count": 3,
   "id": "b1d7013c",
   "metadata": {},
   "outputs": [],
   "source": [
    "# Load training data\n",
    "train_data = np.load('bodmas_train_test.npz')\n",
    "X_all = train_data['X']\n",
    "y_binary = train_data['y']\n",
    "\n",
    "metadata = pd.read_csv('bodmas_metadata_train_test.csv')\n",
    "category_labels = pd.read_csv('bodmas_malware_category.csv')\n",
    "\n",
    "# Fix: rename metadata column to match category_labels for merge\n",
    "metadata = metadata.rename(columns={'sha': 'sha256'})\n",
    "metadata = metadata.dropna(subset=['sha256'])\n",
    "category_labels = category_labels.dropna(subset=['sha256'])\n",
    "merged = metadata.merge(category_labels, on='sha256', how='inner')\n",
    "\n",
    "X = X_all[merged.index]\n",
    "y = merged['category'].astype('category').cat.codes\n",
    "class_names = merged['category'].astype('category').cat.categories\n",
    "\n",
    "scaler = StandardScaler()\n",
    "X_scaled = scaler.fit_transform(X)\n",
    "\n",
    "X_train, X_test, y_train, y_test = train_test_split(\n",
    "    X_scaled, y, test_size=0.2, stratify=y, random_state=42\n",
    ")"
   ]
  },
  {
   "cell_type": "code",
   "execution_count": 4,
   "id": "561e2d61",
   "metadata": {},
   "outputs": [
    {
     "name": "stdout",
     "output_type": "stream",
     "text": [
      "✅ Model trained and saved as 'model2_xgboost.joblib'\n"
     ]
    }
   ],
   "source": [
    "#  Final XGBoost training block (clean, no warnings)\n",
    "xgb_clf = xgb.XGBClassifier(\n",
    "    objective='multi:softmax',\n",
    "    num_class=len(np.unique(y)),\n",
    "    max_depth=4,\n",
    "    learning_rate=0.1,\n",
    "    n_estimators=100,\n",
    "    subsample=0.8,\n",
    "    eval_metric='mlogloss',\n",
    "    random_state=42\n",
    ")\n",
    "\n",
    "# Train the model\n",
    "xgb_clf.fit(X_train, y_train)\n",
    "\n",
    "# Save the model\n",
    "import joblib\n",
    "joblib.dump(xgb_clf, 'model2_xgboost.joblib')\n",
    "best_model = xgb_clf\n",
    "\n",
    "print(\"✅ Model trained and saved as 'model2_xgboost.joblib'\")\n"
   ]
  },
  {
   "cell_type": "code",
   "execution_count": 5,
   "id": "cc11c26a",
   "metadata": {},
   "outputs": [
    {
     "name": "stdout",
     "output_type": "stream",
     "text": [
      "📂 Holdout file keys: ['X', 'y']\n",
      "📄 Predictions saved to 'model2_holdout_predictions.txt'\n"
     ]
    }
   ],
   "source": [
    "# Load holdout dataset\n",
    "holdout_data = np.load('bodmas_holdout.npz')\n",
    "print(\"📂 Holdout file keys:\", holdout_data.files)\n",
    "\n",
    "keys = holdout_data.files\n",
    "if len(keys) < 1:\n",
    "    raise SystemExit(\"❌ Holdout file is empty.\")\n",
    "elif len(keys) == 1:\n",
    "    X_holdout = holdout_data[keys[0]]\n",
    "    y_holdout = None\n",
    "    print(\"⚠️ Only features found. No labels available for evaluation.\")\n",
    "else:\n",
    "    X_holdout = holdout_data[keys[0]]\n",
    "    y_holdout = holdout_data[keys[1]]\n",
    "\n",
    "X_holdout_scaled = scaler.transform(X_holdout)\n",
    "y_pred = best_model.predict(X_holdout_scaled)\n",
    "np.savetxt(\"model2_holdout_predictions.txt\", y_pred, fmt='%d')\n",
    "print(\"📄 Predictions saved to 'model2_holdout_predictions.txt'\")"
   ]
  },
  {
   "cell_type": "code",
   "execution_count": 6,
   "id": "c7a9c5fe",
   "metadata": {},
   "outputs": [
    {
     "name": "stdout",
     "output_type": "stream",
     "text": [
      "\n",
      "📊 Evaluation on Holdout Set:\n",
      "\n",
      "Accuracy: 0.0004\n",
      "\n",
      "Classification Report:\n",
      "\n",
      "              precision    recall  f1-score   support\n",
      "\n",
      "    backdoor       1.00      0.00      0.00     18363\n",
      " cryptominer       0.00      0.00      0.00     16072\n",
      "  downloader       0.00      0.00      0.00         0\n",
      "    p2p-worm       0.00      0.00      0.00         0\n",
      "      trojan       0.00      0.00      0.00         0\n",
      "        worm       0.00      0.00      0.00         0\n",
      "\n",
      "    accuracy                           0.00     34435\n",
      "   macro avg       0.17      0.00      0.00     34435\n",
      "weighted avg       0.53      0.00      0.00     34435\n",
      "\n",
      "Confusion Matrix:\n",
      " [[   15     0     2     2 18108   236]\n",
      " [    0     0     0     0 15940   132]\n",
      " [    0     0     0     0     0     0]\n",
      " [    0     0     0     0     0     0]\n",
      " [    0     0     0     0     0     0]\n",
      " [    0     0     0     0     0     0]]\n",
      "\n",
      "TPR per class:\n",
      "backdoor: 0.0008\n",
      "cryptominer: 0.0000\n",
      "downloader: 0.0000\n",
      "p2p-worm: 0.0000\n",
      "trojan: 0.0000\n",
      "worm: 0.0000\n",
      "\n",
      "FPR per class:\n",
      "backdoor: 0.0000\n",
      "cryptominer: 0.0000\n",
      "downloader: 0.0001\n",
      "p2p-worm: 0.0001\n",
      "trojan: 0.9888\n",
      "worm: 0.0107\n"
     ]
    }
   ],
   "source": [
    "# Evaluation if labels are available\n",
    "if y_holdout is not None:\n",
    "    print(\"\\n📊 Evaluation on Holdout Set:\\n\")\n",
    "    acc = accuracy_score(y_holdout, y_pred)\n",
    "    print(f\"Accuracy: {acc:.4f}\\n\")\n",
    "\n",
    "    from sklearn.utils.multiclass import unique_labels\n",
    "\n",
    "    labels_in_holdout = unique_labels(y_holdout, y_pred)\n",
    "    class_names_subset = [class_names[i] for i in labels_in_holdout]\n",
    "\n",
    "    print(\"Classification Report:\\n\")\n",
    "    print(classification_report(\n",
    "        y_holdout, y_pred,\n",
    "        labels=labels_in_holdout,\n",
    "        target_names=class_names_subset,\n",
    "        zero_division=0  # ✅ no undefined metric warnings\n",
    "    ))\n",
    "\n",
    "    cm = confusion_matrix(y_holdout, y_pred, labels=labels_in_holdout)\n",
    "    print(\"Confusion Matrix:\\n\", cm)\n",
    "\n",
    "    # ✅ Fix division by zero in TPR\n",
    "    with np.errstate(divide='ignore', invalid='ignore'):\n",
    "        TPR = np.nan_to_num(np.diag(cm) / np.sum(cm, axis=1))\n",
    "\n",
    "    FPR = []\n",
    "    for i in range(len(cm)):\n",
    "        FP = np.sum(cm[:, i]) - cm[i, i]\n",
    "        TN = np.sum(cm) - (np.sum(cm[i, :]) + np.sum(cm[:, i]) - cm[i, i])\n",
    "        FPR.append(FP / (FP + TN) if (FP + TN) != 0 else 0.0)\n",
    "\n",
    "    print(\"\\nTPR per class:\")\n",
    "    for i, rate in enumerate(TPR):\n",
    "        print(f\"{class_names_subset[i]}: {rate:.4f}\")\n",
    "\n",
    "    print(\"\\nFPR per class:\")\n",
    "    for i, rate in enumerate(FPR):\n",
    "        print(f\"{class_names_subset[i]}: {rate:.4f}\")\n",
    "else:\n",
    "    print(\"⚠️ No labels found in holdout file. Only predictions generated.\")\n",
    "\n"
   ]
  },
  {
   "cell_type": "code",
   "execution_count": null,
   "id": "6b1256f0-2a80-40c2-a10b-ea4dbd7af16c",
   "metadata": {},
   "outputs": [],
   "source": []
  },
  {
   "cell_type": "code",
   "execution_count": 7,
   "id": "ec67aa00-e339-40d8-9276-130234f079f3",
   "metadata": {},
   "outputs": [],
   "source": [
    "import numpy as np\n",
    "import pandas as pd\n",
    "\n",
    "# Load features and labels\n",
    "data = np.load(\"bodmas_train_test.npz\")   # tested with bodmas_train_test.npz and bodmas_holdout.npz\n",
    "X = data['X']  # feature vectors\n",
    "y_binary = data['y']  # 0=benign, 1=malware\n",
    "\n",
    "# Load metadata and category\n",
    "metadata = pd.read_csv(\"bodmas_metadata_train_test.csv\")  # has 'sha' #tested with bodmas_metadata_train_test.csv and bodmas_metadata_holdout.csv\n",
    "categories = pd.read_csv(\"bodmas_malware_category.csv\")   # has 'sha256'\n",
    "\n",
    "# Merge on correct columns\n",
    "metadata = metadata.merge(categories, left_on='sha', right_on='sha256', how='left')\n",
    "metadata['category'] = metadata['category'].fillna('benign')\n",
    "metadata.drop(columns=['sha256'], inplace=True)\n",
    "\n",
    "# Combine with features\n",
    "df = pd.DataFrame(X)\n",
    "df['category'] = metadata['category']"
   ]
  },
  {
   "cell_type": "code",
   "execution_count": null,
   "id": "bac54657-630f-4d73-98ac-1351313402ff",
   "metadata": {},
   "outputs": [],
   "source": []
  },
  {
   "cell_type": "code",
   "execution_count": 8,
   "id": "685f18a1-e19d-47cf-8ab6-628fc970e40a",
   "metadata": {},
   "outputs": [
    {
     "name": "stdout",
     "output_type": "stream",
     "text": [
      "Feature matrix shape: (100000, 2381)\n",
      "Binary label shape: (100000,)\n"
     ]
    }
   ],
   "source": [
    "#Check Shape of Features and Labels\n",
    "\n",
    "print(\"Feature matrix shape:\", X.shape)\n",
    "print(\"Binary label shape:\", y_binary.shape)"
   ]
  },
  {
   "cell_type": "code",
   "execution_count": null,
   "id": "98371b5e-d36b-4cb5-9d49-c6c08df71b8c",
   "metadata": {},
   "outputs": [],
   "source": []
  },
  {
   "cell_type": "code",
   "execution_count": 9,
   "id": "f2f2688c-d4e4-4895-89dc-fa139f94b7f4",
   "metadata": {},
   "outputs": [
    {
     "name": "stdout",
     "output_type": "stream",
     "text": [
      "                                                 sha  \\\n",
      "0  e6d7b4bab32def853ab564410df53fa33172dda1bfd48c...   \n",
      "1  5af37a058a5bcf2284c183ee98d92b7c66d8f5ce623e92...   \n",
      "2  5bfbbea150af5cef2d3a93b80ef7c7faea9f564b56045d...   \n",
      "3  216f592f1e1717d5681b7f5f2b14a28a2f0c603b5b7318...   \n",
      "4  a1ca76813d2e9e7e23b830c87fbe29bcb51fcbe096e445...   \n",
      "\n",
      "                   timestamp family category  \n",
      "0  2007-01-01 08:46:39+00:00    NaN   benign  \n",
      "1  2007-01-26 17:16:30+00:00    NaN   benign  \n",
      "2  2007-03-21 02:08:53+00:00    NaN   benign  \n",
      "3  2007-04-25 12:55:06+00:00    NaN   benign  \n",
      "4  2007-11-14 15:03:55+00:00    NaN   benign  \n"
     ]
    }
   ],
   "source": [
    "#Check First Few Rows of Metadata\n",
    "print(metadata.head())"
   ]
  },
  {
   "cell_type": "code",
   "execution_count": null,
   "id": "05ccede9-33c3-4997-a791-e0a997f8d8af",
   "metadata": {},
   "outputs": [],
   "source": []
  },
  {
   "cell_type": "code",
   "execution_count": 10,
   "id": "3e3d1516-8ff4-41df-b3e3-1e17a422e02c",
   "metadata": {},
   "outputs": [],
   "source": [
    "\n",
    "# Remove classes with only 1 sample\n",
    "counts = df['category'].value_counts()\n",
    "valid_classes = counts[counts > 1].index\n",
    "df = df[df['category'].isin(valid_classes)]"
   ]
  },
  {
   "cell_type": "code",
   "execution_count": null,
   "id": "78b14113-7820-4499-b44d-4a93d0bcbfde",
   "metadata": {},
   "outputs": [],
   "source": []
  },
  {
   "cell_type": "code",
   "execution_count": 11,
   "id": "d382b7a0-aedb-4b27-a8ff-fae2e4a3e22f",
   "metadata": {},
   "outputs": [],
   "source": [
    "from sklearn.model_selection import train_test_split\n",
    "from sklearn.preprocessing import LabelEncoder\n",
    "\n",
    "# Encode category labels to integers\n",
    "le = LabelEncoder()\n",
    "y = le.fit_transform(df['category'])\n",
    "X_features = df.drop(columns=['category'])\n",
    "\n",
    "# Create train/test sets\n",
    "X_train, X_test, y_train, y_test = train_test_split(\n",
    "    X_features, y, test_size=0.2, stratify=y, random_state=42\n",
    ")"
   ]
  },
  {
   "cell_type": "code",
   "execution_count": 12,
   "id": "7db8fd30-aff7-49ea-a3b3-2e1cda61838a",
   "metadata": {},
   "outputs": [
    {
     "name": "stdout",
     "output_type": "stream",
     "text": [
      "                    precision    recall  f1-score   support\n",
      "\n",
      "          backdoor       0.92      0.96      0.94       933\n",
      "            benign       0.99      1.00      0.99     11756\n",
      "       cryptominer       0.67      0.50      0.57         4\n",
      "        downloader       0.93      0.81      0.87       195\n",
      "           dropper       0.77      0.76      0.76       116\n",
      "           exploit       1.00      1.00      1.00         2\n",
      "informationstealer       0.93      0.80      0.86        46\n",
      "          p2p-worm       0.00      0.00      0.00         1\n",
      "               pua       0.00      0.00      0.00         4\n",
      "        ransomware       0.99      0.86      0.92       143\n",
      "           rootkit       1.00      1.00      1.00         1\n",
      "            trojan       0.95      0.93      0.94      4650\n",
      "  trojan-gamethief       0.00      0.00      0.00         1\n",
      "             virus       0.94      0.76      0.84        38\n",
      "              worm       0.94      0.95      0.94      2110\n",
      "\n",
      "          accuracy                           0.97     20000\n",
      "         macro avg       0.73      0.69      0.71     20000\n",
      "      weighted avg       0.97      0.97      0.97     20000\n",
      "\n"
     ]
    }
   ],
   "source": [
    "#trying Random Forest Classifier\n",
    "from sklearn.ensemble import RandomForestClassifier\n",
    "from sklearn.metrics import classification_report\n",
    "\n",
    "rf = RandomForestClassifier(n_estimators=100, random_state=42)\n",
    "rf.fit(X_train, y_train)\n",
    "\n",
    "y_pred = rf.predict(X_test)\n",
    "#print(classification_report(y_test, y_pred, target_names=le.classes_))\n",
    "\n",
    "\n",
    "print(classification_report(\n",
    "    y_test,\n",
    "    y_pred,\n",
    "    labels=range(len(le.classes_)),  # handle missing class in test set\n",
    "    target_names=le.classes_,\n",
    "    zero_division=0  # avoids warnings if precision/recall can't be computed\n",
    "))"
   ]
  },
  {
   "cell_type": "code",
   "execution_count": null,
   "id": "917fefd4-e2c3-4982-90ea-4921e382297f",
   "metadata": {},
   "outputs": [],
   "source": []
  },
  {
   "cell_type": "code",
   "execution_count": 13,
   "id": "e462cc1f-b6d6-42ba-b038-9acc4c0586a7",
   "metadata": {},
   "outputs": [
    {
     "name": "stdout",
     "output_type": "stream",
     "text": [
      "Random Forest - Overall Accuracy: 0.9701\n",
      "\n",
      "Top 10 Class Evaluation - Random Forest:\n",
      "                Class  Accuracy   TPR   FPR\n",
      "0              benign      0.99  1.00  0.02\n",
      "1              trojan      0.97  0.93  0.01\n",
      "2                worm      0.99  0.95  0.01\n",
      "3            backdoor      0.99  0.96  0.00\n",
      "4          downloader      1.00  0.81  0.00\n",
      "5          ransomware      1.00  0.86  0.00\n",
      "6             dropper      1.00  0.76  0.00\n",
      "7  informationstealer      1.00  0.80  0.00\n",
      "8               virus      1.00  0.76  0.00\n",
      "9                 pua      1.00  0.00  0.00\n"
     ]
    }
   ],
   "source": [
    "from sklearn.ensemble import RandomForestClassifier\n",
    "from sklearn.metrics import accuracy_score, confusion_matrix\n",
    "import pandas as pd\n",
    "\n",
    "# --- Train Random Forest Model ---\n",
    "rf = RandomForestClassifier(n_estimators=100, random_state=42)\n",
    "rf.fit(X_train, y_train)\n",
    "\n",
    "# --- Predict ---\n",
    "y_pred_rf = rf.predict(X_test)\n",
    "\n",
    "# --- Print Overall Accuracy ---\n",
    "print(\"Random Forest - Overall Accuracy:\", accuracy_score(y_test, y_pred_rf))\n",
    "\n",
    "# --- Function to Evaluate Top 10 Classes ---\n",
    "def limited_accuracy_by_class(y_true, y_pred, class_names, top_n=10):\n",
    "    counts = pd.Series(y_true).value_counts().nlargest(top_n)\n",
    "    top_classes = counts.index.tolist()\n",
    "    cm = confusion_matrix(y_true, y_pred, labels=top_classes)\n",
    "    output = []\n",
    "\n",
    "    for i, class_idx in enumerate(top_classes):\n",
    "        class_name = class_names[class_idx]\n",
    "        TP = cm[i, i]\n",
    "        FN = cm[i].sum() - TP\n",
    "        FP = cm[:, i].sum() - TP\n",
    "        TN = cm.sum() - (TP + FN + FP)\n",
    "        acc = (TP + TN) / cm.sum()\n",
    "        tpr = TP / (TP + FN) if (TP + FN) > 0 else 0\n",
    "        fpr = FP / (FP + TN) if (FP + TN) > 0 else 0\n",
    "        output.append([class_name, round(acc, 2), round(tpr, 2), round(fpr, 2)])\n",
    "\n",
    "    return pd.DataFrame(output, columns=[\"Class\", \"Accuracy\", \"TPR\", \"FPR\"])\n",
    "\n",
    "# --- Display Evaluation for Top 10 Classes ---\n",
    "top10_rf_report = limited_accuracy_by_class(y_test, y_pred_rf, le.classes_, top_n=10)\n",
    "print(\"\\nTop 10 Class Evaluation - Random Forest:\")\n",
    "print(top10_rf_report)"
   ]
  },
  {
   "cell_type": "code",
   "execution_count": null,
   "id": "daaffc6c-9fd5-423c-b297-ea9634a6d6de",
   "metadata": {},
   "outputs": [],
   "source": []
  },
  {
   "cell_type": "code",
   "execution_count": null,
   "id": "e67e3d77-bd3a-45a3-b98b-116ef0508f3b",
   "metadata": {},
   "outputs": [],
   "source": []
  },
  {
   "cell_type": "code",
   "execution_count": null,
   "id": "11d29ecd-5417-46df-8fdc-abe2f2cb5d72",
   "metadata": {},
   "outputs": [],
   "source": []
  },
  {
   "cell_type": "code",
   "execution_count": 14,
   "id": "b7c5e26a-4813-4cc5-b954-41c157297b73",
   "metadata": {},
   "outputs": [],
   "source": [
    "#RAMDOM FOREST FOR HOLDOUT DATASET"
   ]
  },
  {
   "cell_type": "code",
   "execution_count": 15,
   "id": "fd5e3faf-60c0-494d-a7e6-4802c159e16a",
   "metadata": {},
   "outputs": [],
   "source": [
    "# Load features and labels\n",
    "data = np.load(\"bodmas_holdout.npz\")   # tested with bodmas_train_test.npz and bodmas_holdout.npz\n",
    "X = data['X']  # feature vectors\n",
    "y_binary = data['y']  # 0=benign, 1=malware\n",
    "\n",
    "# Load metadata and category\n",
    "metadata = pd.read_csv(\"bodmas_metadata_holdout.csv\")  # has 'sha' #tested with bodmas_metadata_train_test.csv and bodmas_metadata_holdout.csv\n",
    "categories = pd.read_csv(\"bodmas_malware_category.csv\")   # has 'sha256'\n",
    "\n",
    "# Merge on correct columns\n",
    "metadata = metadata.merge(categories, left_on='sha', right_on='sha256', how='left')\n",
    "metadata['category'] = metadata['category'].fillna('benign')\n",
    "metadata.drop(columns=['sha256'], inplace=True)\n",
    "\n",
    "# Combine with features\n",
    "df = pd.DataFrame(X)\n",
    "df['category'] = metadata['category']"
   ]
  },
  {
   "cell_type": "code",
   "execution_count": null,
   "id": "22b11809-3a28-4031-8ebb-f09d7c08831e",
   "metadata": {},
   "outputs": [],
   "source": []
  },
  {
   "cell_type": "code",
   "execution_count": 16,
   "id": "1e818bf7-8ed4-4862-9d41-1a1d008807b9",
   "metadata": {},
   "outputs": [],
   "source": [
    "# Remove classes with only 1 sample\n",
    "counts = df['category'].value_counts()\n",
    "valid_classes = counts[counts > 1].index\n",
    "df = df[df['category'].isin(valid_classes)]"
   ]
  },
  {
   "cell_type": "code",
   "execution_count": null,
   "id": "57b83674-062e-4285-9ca8-3d3810ef1912",
   "metadata": {},
   "outputs": [],
   "source": []
  },
  {
   "cell_type": "code",
   "execution_count": 17,
   "id": "0f734a21-5ca6-4667-87e1-40583c9ec73a",
   "metadata": {},
   "outputs": [],
   "source": [
    "from sklearn.model_selection import train_test_split\n",
    "from sklearn.preprocessing import LabelEncoder\n",
    "\n",
    "# Encode category labels to integers\n",
    "le = LabelEncoder()\n",
    "y = le.fit_transform(df['category'])\n",
    "X_features = df.drop(columns=['category'])\n",
    "\n",
    "# Create train/test sets\n",
    "X_train, X_test, y_train, y_test = train_test_split(\n",
    "    X_features, y, test_size=0.2, stratify=y, random_state=42\n",
    ")"
   ]
  },
  {
   "cell_type": "code",
   "execution_count": null,
   "id": "a48feb30-0d1c-4de0-afc8-c62de0404ad5",
   "metadata": {},
   "outputs": [],
   "source": []
  },
  {
   "cell_type": "code",
   "execution_count": 18,
   "id": "fefd15f9-70ef-4434-80b6-6f80e3e1e97d",
   "metadata": {},
   "outputs": [
    {
     "name": "stdout",
     "output_type": "stream",
     "text": [
      "                    precision    recall  f1-score   support\n",
      "\n",
      "          backdoor       0.98      0.98      0.98       533\n",
      "            benign       0.99      1.00      1.00      3673\n",
      "        downloader       0.83      0.45      0.59        11\n",
      "           dropper       0.86      0.70      0.78        27\n",
      "informationstealer       0.95      0.93      0.94        43\n",
      "          p2p-worm       0.00      0.00      0.00         3\n",
      "               pua       0.00      0.00      0.00         2\n",
      "        ransomware       0.94      0.81      0.87        21\n",
      "            trojan       0.97      0.95      0.96      1345\n",
      "  trojan-gamethief       0.00      0.00      0.00         0\n",
      "              worm       0.97      0.98      0.97      1229\n",
      "\n",
      "         micro avg       0.98      0.98      0.98      6887\n",
      "         macro avg       0.68      0.62      0.64      6887\n",
      "      weighted avg       0.98      0.98      0.98      6887\n",
      "\n"
     ]
    }
   ],
   "source": [
    "#trying Random Forest Classifier\n",
    "from sklearn.ensemble import RandomForestClassifier\n",
    "from sklearn.metrics import classification_report\n",
    "\n",
    "rf = RandomForestClassifier(n_estimators=100, random_state=42)\n",
    "rf.fit(X_train, y_train)\n",
    "\n",
    "y_pred = rf.predict(X_test)\n",
    "#print(classification_report(y_test, y_pred, target_names=le.classes_))\n",
    "\n",
    "\n",
    "print(classification_report(\n",
    "    y_test,\n",
    "    y_pred,\n",
    "    labels=range(len(le.classes_)),  # handle missing class in test set\n",
    "    target_names=le.classes_,\n",
    "    zero_division=0  # avoids warnings if precision/recall can't be computed\n",
    "))"
   ]
  },
  {
   "cell_type": "code",
   "execution_count": null,
   "id": "9a79d034-2be7-4834-84bb-35a83cb53e83",
   "metadata": {},
   "outputs": [],
   "source": []
  },
  {
   "cell_type": "code",
   "execution_count": 19,
   "id": "122f3c93-aedd-4b4e-98df-14bf4e20c2a7",
   "metadata": {},
   "outputs": [
    {
     "name": "stdout",
     "output_type": "stream",
     "text": [
      "Random Forest - Overall Accuracy: 0.9814142587483665\n",
      "\n",
      "Top 10 Class Evaluation for holdout dataset - Random Forest:\n",
      "                Class  Accuracy   TPR   FPR\n",
      "0              benign      1.00  1.00  0.01\n",
      "1              trojan      0.98  0.95  0.01\n",
      "2                worm      0.99  0.98  0.01\n",
      "3            backdoor      1.00  0.98  0.00\n",
      "4  informationstealer      1.00  0.93  0.00\n",
      "5             dropper      1.00  0.70  0.00\n",
      "6          ransomware      1.00  0.81  0.00\n",
      "7          downloader      1.00  0.45  0.00\n",
      "8            p2p-worm      1.00  0.00  0.00\n",
      "9                 pua      1.00  0.00  0.00\n"
     ]
    }
   ],
   "source": [
    "from sklearn.ensemble import RandomForestClassifier\n",
    "from sklearn.metrics import accuracy_score, confusion_matrix\n",
    "import pandas as pd\n",
    "\n",
    "# --- Train Random Forest Model ---\n",
    "rf = RandomForestClassifier(n_estimators=100, random_state=42)\n",
    "rf.fit(X_train, y_train)\n",
    "\n",
    "# --- Predict ---\n",
    "y_pred_rf = rf.predict(X_test)\n",
    "\n",
    "# --- Print Overall Accuracy ---\n",
    "print(\"Random Forest - Overall Accuracy:\", accuracy_score(y_test, y_pred_rf))\n",
    "\n",
    "# --- Function to Evaluate Top 10 Classes ---\n",
    "def limited_accuracy_by_class(y_true, y_pred, class_names, top_n=10):\n",
    "    counts = pd.Series(y_true).value_counts().nlargest(top_n)\n",
    "    top_classes = counts.index.tolist()\n",
    "    cm = confusion_matrix(y_true, y_pred, labels=top_classes)\n",
    "    output = []\n",
    "\n",
    "    for i, class_idx in enumerate(top_classes):\n",
    "        class_name = class_names[class_idx]\n",
    "        TP = cm[i, i]\n",
    "        FN = cm[i].sum() - TP\n",
    "        FP = cm[:, i].sum() - TP\n",
    "        TN = cm.sum() - (TP + FN + FP)\n",
    "        acc = (TP + TN) / cm.sum()\n",
    "        tpr = TP / (TP + FN) if (TP + FN) > 0 else 0\n",
    "        fpr = FP / (FP + TN) if (FP + TN) > 0 else 0\n",
    "        output.append([class_name, round(acc, 2), round(tpr, 2), round(fpr, 2)])\n",
    "\n",
    "    return pd.DataFrame(output, columns=[\"Class\", \"Accuracy\", \"TPR\", \"FPR\"])\n",
    "\n",
    "# --- Display Evaluation for Top 10 Classes ---\n",
    "top10_rf_report = limited_accuracy_by_class(y_test, y_pred_rf, le.classes_, top_n=10)\n",
    "print(\"\\nTop 10 Class Evaluation for holdout dataset - Random Forest:\")\n",
    "print(top10_rf_report)"
   ]
  },
  {
   "cell_type": "code",
   "execution_count": null,
   "id": "6c958565-a9c3-4d52-907b-0974993a9f59",
   "metadata": {},
   "outputs": [],
   "source": []
  }
 ],
 "metadata": {
  "kernelspec": {
   "display_name": "Python 3 (ipykernel)",
   "language": "python",
   "name": "python3"
  },
  "language_info": {
   "codemirror_mode": {
    "name": "ipython",
    "version": 3
   },
   "file_extension": ".py",
   "mimetype": "text/x-python",
   "name": "python",
   "nbconvert_exporter": "python",
   "pygments_lexer": "ipython3",
   "version": "3.12.4"
  }
 },
 "nbformat": 4,
 "nbformat_minor": 5
}
